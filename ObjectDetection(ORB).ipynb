{
 "cells": [
  {
   "cell_type": "code",
   "execution_count": 10,
   "metadata": {},
   "outputs": [],
   "source": [
    "import cv2\n",
    "import numpy as np"
   ]
  },
  {
   "cell_type": "code",
   "execution_count": null,
   "metadata": {},
   "outputs": [],
   "source": [
    "def ORB_detector(new_image,image_template):\n",
    "    #this function compares input image to the template\n",
    "    image1 = cv2.cvtColor(new_image,cv2.COLOR_BGR2GRAY)\n",
    "    \n",
    "    #creating an orb detector with 1000 keypoints \n",
    "    orb = cv2.ORB_create(1000,1.2)\n",
    "    \n",
    "    #detecting keypoints of image from video\n",
    "    (kp1,des1) = orb.detectAndCompute(image1,None)\n",
    "    #detecting keypoints of template image\n",
    "    (kp2,des2) = orb.detectAndCompute(image_template,None)\n",
    "    \n",
    "    #Creating Matcher\n",
    "    bf = cv2.BFMatcher(cv2.NORM_HAMMING,crossCheck=True)\n",
    "    \n",
    "    #MAtching\n",
    "    matches = bf.match(des1,des2)\n",
    "    \n",
    "    #Sort matches based on distance\n",
    "    #Sortin gmatches\n",
    "    matches = sorted(matches,key=lambda val: val.distance)\n",
    "    \n",
    "    return len(matches)\n",
    "\n",
    "cap = cv2.VideoCapture(0)\n",
    "\n",
    "image_template = cv2.imread('images/myimage.jpg',0)\n",
    "\n",
    "\n",
    "while True:\n",
    "        ret,frame= cap.read()\n",
    "        \n",
    "        height,width = frame.shape[:2]\n",
    "        \n",
    "        top_left_x = int(width/3)\n",
    "        top_left_y = int((height/2)+(height/4))\n",
    "        bottom_right_x = int((width/3)*2)\n",
    "        bottom_right_y = int((height/2)-(height/4))\n",
    "        \n",
    "#        cv2.rectangle(frame,(0,0),(height,width),(255,0,0),3)\n",
    "        cv2.rectangle(frame, (top_left_x,top_left_y), (bottom_right_x, bottom_right_y), (255,255,255), 3)\n",
    "        cropped = frame[bottom_right_y:top_left_y,top_left_x:bottom_right_x]\n",
    "        frame = cv2.flip(frame,1)\n",
    "        \n",
    "        matches = ORB_detector(cropped,image_template)\n",
    "        \n",
    "        #Display string to show the current no. of matches\n",
    "        output_string = \"Matches = \"+str(matches)\n",
    "        cv2.putText(frame,output_string,(50,450),cv2.FONT_HERSHEY_COMPLEX,2,(250,0,150),2 )\n",
    "        \n",
    "        #threshold for the no. of matches\n",
    "        threshold = 375\n",
    "         \n",
    "        if matches>threshold:\n",
    "            cv2.rectangle(frame,(top_left_x,top_left_y),(bottom_right_x,bottom_right_x),(0,255,0),3)\n",
    "            cv2.putText(frame,'Object Found',(50,50),cv2.FONT_HERSHEY_COMPLEX,2,(0,250,0),2 )\n",
    "        cv2.imshow('Object Detector using ORB',frame)\n",
    "        \n",
    "        if cv2.waitKey(0) == 1:\n",
    "            break\n",
    "            \n",
    "cap.release()\n",
    "cv2.destroyAllWindows()\n",
    "\n",
    "\n",
    "\n",
    "\n",
    "\n",
    "\n",
    "\n",
    "\n",
    "\n"
   ]
  },
  {
   "cell_type": "code",
   "execution_count": null,
   "metadata": {},
   "outputs": [],
   "source": []
  },
  {
   "cell_type": "code",
   "execution_count": null,
   "metadata": {},
   "outputs": [],
   "source": []
  },
  {
   "cell_type": "code",
   "execution_count": null,
   "metadata": {},
   "outputs": [],
   "source": []
  },
  {
   "cell_type": "code",
   "execution_count": null,
   "metadata": {},
   "outputs": [],
   "source": []
  },
  {
   "cell_type": "code",
   "execution_count": null,
   "metadata": {},
   "outputs": [],
   "source": []
  },
  {
   "cell_type": "code",
   "execution_count": null,
   "metadata": {},
   "outputs": [],
   "source": []
  }
 ],
 "metadata": {
  "kernelspec": {
   "display_name": "Python 3",
   "language": "python",
   "name": "python3"
  },
  "language_info": {
   "codemirror_mode": {
    "name": "ipython",
    "version": 3
   },
   "file_extension": ".py",
   "mimetype": "text/x-python",
   "name": "python",
   "nbconvert_exporter": "python",
   "pygments_lexer": "ipython3",
   "version": "3.6.4"
  }
 },
 "nbformat": 4,
 "nbformat_minor": 2
}
